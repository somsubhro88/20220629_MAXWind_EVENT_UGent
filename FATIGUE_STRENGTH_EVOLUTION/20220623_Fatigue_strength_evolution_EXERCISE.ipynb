{
 "cells": [
  {
   "cell_type": "markdown",
   "id": "e354bfce",
   "metadata": {
    "slideshow": {
     "slide_type": "slide"
    }
   },
   "source": [
    "![logo](MAXWind_Logo.png \"MAXWind logo\")\n",
    "https://www.owi-lab.be/maxwind"
   ]
  },
  {
   "cell_type": "markdown",
   "id": "09ebf1c8",
   "metadata": {
    "slideshow": {
     "slide_type": "slide"
    }
   },
   "source": [
    "# UGent\n",
    "## Exercise 2: Fatigue strength evolution\n",
    "\n",
    "In this exercise, you will become acquainted with the process of estimating the degraded fatigue strength of two types of steel (S355 and 316L). The degradation happens as a consequence of corrosion pit forming on the surface of the material by being exposed to the North Sea environment.\n",
    "\n",
    "1. Parameters that are characteristic of the material are provided.\n",
    "2. The pit depth can be determined in the first step by knowing the maximum pit depth growth rate and the desired exposure duration. \n",
    "3. The pit width may then be calculated using a derived relationship between pit depth and pit width.\n",
    "4. Finally, the model computes the material's present fatigue strength after a certain duration of exposure to the marine environment."
   ]
  },
  {
   "cell_type": "code",
   "execution_count": null,
   "id": "0154a8c0",
   "metadata": {},
   "outputs": [],
   "source": [
    "#Import libraries\n",
    "import pandas as pd\n",
    "import numpy as np\n",
    "import matplotlib.pyplot as plt\n",
    "%matplotlib inline\n",
    "import list_functions as lf"
   ]
  },
  {
   "cell_type": "markdown",
   "id": "7058669b",
   "metadata": {},
   "source": [
    "### 1. Material parameters\n",
    "\n",
    "For the sake of this exercise, we will look at the fatigue strength evolution of two different grades of structural steel materials:\n",
    "\n",
    "* S355 structural steel\n",
    "* Carbon steel (potentially S375)\n",
    "\n",
    "We will let you choose which material you would like to see the fatigue strength evolution for."
   ]
  },
  {
   "cell_type": "code",
   "execution_count": null,
   "id": "0c63b373",
   "metadata": {},
   "outputs": [],
   "source": [
    "#Input material parameters as a Pandas DataFrame.\n",
    "\n",
    "material_prm_df = pd.read_excel(\"Material parameters_COMBINED.xlsx\")\n",
    "material_prm_df.set_index('Material', inplace=True)\n",
    "    \n",
    "\n",
    "    \n",
    "#Show material parameters\n",
    "material_prm_df\n",
    "#Headers\n",
    "#Threshold stress intensity factor, Kth [MPa.m^0.5]\n",
    "#Fatigue limit of the material, sigma_limit [MPa]\n",
    "#Elastic modulus of the material, E [GPa]\n",
    "#Poisson ratio, v [-]\n",
    "#Average grain size of the microstructure (base material), D [mm]"
   ]
  },
  {
   "cell_type": "markdown",
   "id": "90331f86",
   "metadata": {},
   "source": [
    "####  You can choose which material you want to see the fatigue strength evolution for."
   ]
  },
  {
   "cell_type": "code",
   "execution_count": null,
   "id": "c0ee9765",
   "metadata": {},
   "outputs": [],
   "source": [
    "#Choice of material for analysis\n",
    "# \"S355\" OR \"Carbon steel\"\n",
    "choice_material = \"S355\" \n",
    "print(\"The choice of material for analysis is: \"+choice_material)"
   ]
  },
  {
   "cell_type": "markdown",
   "id": "de6e18a6",
   "metadata": {},
   "source": [
    "### 2. Pit dimensions - pit depth\n",
    "\n",
    "![pit_size](pit_size.png \"pit_size\")\n",
    "\n",
    "Based on [literature](https://doi.org/10.1179/000705988798270730), we can estimate pit depth for specific exposure times. \n",
    "\n",
    "For the sake of simplification, from the linked literature above, pit depth can be assumed to grow linearly at 0.409 mm per year of exposure"
   ]
  },
  {
   "cell_type": "code",
   "execution_count": null,
   "id": "2ae323d3",
   "metadata": {},
   "outputs": [],
   "source": [
    "#Pit depth evolution vs exposure time\n",
    "pit_depth_growth_rate = 0.409 #mm/year\n",
    "exposure_time = np.arange(0,8.0,0.5)\n",
    "pit_depth = exposure_time * pit_depth_growth_rate\n",
    "pit_geometry_df = pd.DataFrame(zip(exposure_time, pit_depth), columns = ['exposure time','pit depth'])\n",
    "pit_geometry_df.set_index('exposure time', inplace=True)\n",
    "\n",
    "#Headers\n",
    "#Exposure time [years]\n",
    "# Pit depth [mm]\n",
    "pit_geometry_df"
   ]
  },
  {
   "cell_type": "markdown",
   "id": "ae65e5f4",
   "metadata": {},
   "source": [
    "### 3. Pit dimensions - pit width\n",
    "\n",
    "The pit width may then be calculated using a derived relationship between pit depth and pit width (based on actual measurements of corrosion pits from a sample submerged in the North Sea)."
   ]
  },
  {
   "cell_type": "code",
   "execution_count": null,
   "id": "90ece588",
   "metadata": {},
   "outputs": [],
   "source": [
    "#Adding pit width to pit geometry dataframe\n",
    "pit_geometry_df['pit width'] = (2.2*pit_geometry_df['pit depth'] + 1.062) #mm\n",
    "#setting first value as zero\n",
    "pit_geometry_df['pit width'].iloc[0] = 0\n",
    "#Show Dataframe\n",
    "pit_geometry_df"
   ]
  },
  {
   "cell_type": "markdown",
   "id": "ea02fef3",
   "metadata": {},
   "source": [
    "#### Plot evolution of pit geometry"
   ]
  },
  {
   "cell_type": "code",
   "execution_count": null,
   "id": "d56ce1b2",
   "metadata": {},
   "outputs": [],
   "source": [
    "#Plot evolution of pit geometry\n",
    "ax = pit_geometry_df.plot.bar()\n",
    "plt.ylabel('Size [mm]', size=10)\n",
    "plt.xlabel('Exposure time [years]', size=10)\n",
    "plt.tight_layout()\n",
    "plt.grid(True,alpha=0.5)"
   ]
  },
  {
   "cell_type": "markdown",
   "id": "a629960b",
   "metadata": {},
   "source": [
    "### 4. Fatigue strength evolution\n",
    "\n",
    "Finally, the model computes the material's present fatigue strength after a certain duration of exposure to the marine environment.\n",
    "\n",
    "Unfortunately, the model is computationally heavy, and, in our case, is currently implemented in MATLAB (it is in the process of being translated to Python). Thus, we will not be able to demonstrate \"behind-the-scenes\" calculations. However, we have performed a polynomial fit through the data (valid for exposure time of 0 - 7.5 years) representing the fatigue strength evolution for each specific material."
   ]
  },
  {
   "cell_type": "code",
   "execution_count": null,
   "id": "f693b9ff",
   "metadata": {},
   "outputs": [],
   "source": [
    "#Calculating fatigue strength based on relation (exported to function written in another file)\n",
    "pit_geometry_df['Fatigue strength'] = lf.fatigue_strength_calc(pit_geometry_df,choice_material)\n",
    "\n",
    "#Show Dataframe\n",
    "pit_geometry_df"
   ]
  },
  {
   "cell_type": "code",
   "execution_count": null,
   "id": "daf71bd2",
   "metadata": {},
   "outputs": [],
   "source": [
    "#If you would like to print a specific value of fatigue strength for a certain exposure time.\n",
    "s = pit_geometry_df['Fatigue strength']\n",
    "\n",
    "#Exposure time between 0 to 7.5 with the step of 0.5\n",
    "choice_exposure_time = 7.5 ##your choice here\n",
    "b = 2*choice_exposure_time\n",
    "b = int(b)\n",
    "print(\"The fatigue strength for an exposure time of: \"+str(choice_exposure_time)+\" years is: \"+str(round(s.iloc[b],2))+\" MPa\")"
   ]
  },
  {
   "cell_type": "code",
   "execution_count": null,
   "id": "88a107d2",
   "metadata": {},
   "outputs": [],
   "source": [
    "#Normalising fatigue strength\n",
    "pit_geometry_df['Normalised fatigue strength'] = pit_geometry_df['Fatigue strength'] / pit_geometry_df['Fatigue strength'].max()\n",
    "\n",
    "#Show Dataframe\n",
    "pit_geometry_df"
   ]
  },
  {
   "cell_type": "code",
   "execution_count": null,
   "id": "e13d502b",
   "metadata": {},
   "outputs": [],
   "source": [
    "#Plotting Fatigue strength evolution vs exposure time\n",
    "ax = pit_geometry_df.plot.line(y='Normalised fatigue strength',marker = 'o', markersize = 4)\n",
    "plt.ylabel('Normalised fatigue strength [-]', size=10)\n",
    "plt.xlabel('Exposure time [years]', size=10)\n",
    "ax.set_ylim([0.,1.])\n",
    "ax.set_xlim([0.0,8.0])\n",
    "ax.set_title('Normalised fatigue strength evolution for material: '+choice_material,size = 14)\n",
    "plt.tight_layout()\n",
    "plt.grid(True,alpha=0.5)"
   ]
  },
  {
   "cell_type": "code",
   "execution_count": null,
   "id": "b93b0b2c",
   "metadata": {},
   "outputs": [],
   "source": [
    "#Plotting Fatigue strength evolution vs pit depth\n",
    "ax = pit_geometry_df.plot.line(x='pit depth', y='Normalised fatigue strength',marker = 'o', markersize = 4)\n",
    "plt.ylabel('Normalised fatigue strength [-]', size=10)\n",
    "plt.xlabel('Pit depth [mm]', size=10)\n",
    "ax.set_ylim([0.,1.])\n",
    "ax.set_xlim([0.0,4.0])\n",
    "ax.set_title('Normalised fatigue strength evolution for material: '+choice_material,size = 14)\n",
    "plt.tight_layout()\n",
    "plt.grid(True,alpha=0.5)"
   ]
  },
  {
   "cell_type": "code",
   "execution_count": null,
   "id": "4cb7a087",
   "metadata": {},
   "outputs": [],
   "source": []
  }
 ],
 "metadata": {
  "kernelspec": {
   "display_name": "Python 3 (ipykernel)",
   "language": "python",
   "name": "python3"
  },
  "language_info": {
   "codemirror_mode": {
    "name": "ipython",
    "version": 3
   },
   "file_extension": ".py",
   "mimetype": "text/x-python",
   "name": "python",
   "nbconvert_exporter": "python",
   "pygments_lexer": "ipython3",
   "version": "3.8.12"
  },
  "varInspector": {
   "cols": {
    "lenName": 16,
    "lenType": 16,
    "lenVar": 40
   },
   "kernels_config": {
    "python": {
     "delete_cmd_postfix": "",
     "delete_cmd_prefix": "del ",
     "library": "var_list.py",
     "varRefreshCmd": "print(var_dic_list())"
    },
    "r": {
     "delete_cmd_postfix": ") ",
     "delete_cmd_prefix": "rm(",
     "library": "var_list.r",
     "varRefreshCmd": "cat(var_dic_list()) "
    }
   },
   "types_to_exclude": [
    "module",
    "function",
    "builtin_function_or_method",
    "instance",
    "_Feature"
   ],
   "window_display": false
  }
 },
 "nbformat": 4,
 "nbformat_minor": 5
}
