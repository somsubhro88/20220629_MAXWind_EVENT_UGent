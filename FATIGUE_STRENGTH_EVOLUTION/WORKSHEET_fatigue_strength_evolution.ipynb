{
 "cells": [
  {
   "cell_type": "markdown",
   "id": "e354bfce",
   "metadata": {
    "slideshow": {
     "slide_type": "slide"
    }
   },
   "source": [
    "![logo](MAXWind_Logo.png \"MAXWind logo\")\n",
    "https://www.owi-lab.be/maxwind"
   ]
  },
  {
   "cell_type": "markdown",
   "id": "09ebf1c8",
   "metadata": {
    "slideshow": {
     "slide_type": "slide"
    }
   },
   "source": [
    "# UGent\n",
    "## Exercise 2: Fatigue strength evolution\n",
    "\n",
    "In this exercise, you will become acquainted with the process of estimating the degraded fatigue strength of two types of steel (S355 and 316L). The degradation happens as a consequence of corrosion pit forming on the surface of the material by being exposed to the North Sea environment.\n",
    "\n",
    "1. Parameters that are characteristic of the material are provided.\n",
    "2. The pit depth can be determined in the first step by knowing the maximum pit depth growth rate and the desired exposure duration. \n",
    "3. The pit width may then be calculated using a derived relationship between pit depth and pit width.\n",
    "4. Finally, the model computes the material's present fatigue strength after a certain duration of exposure to the marine environment."
   ]
  },
  {
   "cell_type": "code",
   "execution_count": null,
   "id": "4cb7a087",
   "metadata": {},
   "outputs": [],
   "source": []
  }
 ],
 "metadata": {
  "kernelspec": {
   "display_name": "Python 3 (ipykernel)",
   "language": "python",
   "name": "python3"
  },
  "language_info": {
   "codemirror_mode": {
    "name": "ipython",
    "version": 3
   },
   "file_extension": ".py",
   "mimetype": "text/x-python",
   "name": "python",
   "nbconvert_exporter": "python",
   "pygments_lexer": "ipython3",
   "version": "3.8.12"
  },
  "varInspector": {
   "cols": {
    "lenName": 16,
    "lenType": 16,
    "lenVar": 40
   },
   "kernels_config": {
    "python": {
     "delete_cmd_postfix": "",
     "delete_cmd_prefix": "del ",
     "library": "var_list.py",
     "varRefreshCmd": "print(var_dic_list())"
    },
    "r": {
     "delete_cmd_postfix": ") ",
     "delete_cmd_prefix": "rm(",
     "library": "var_list.r",
     "varRefreshCmd": "cat(var_dic_list()) "
    }
   },
   "types_to_exclude": [
    "module",
    "function",
    "builtin_function_or_method",
    "instance",
    "_Feature"
   ],
   "window_display": false
  }
 },
 "nbformat": 4,
 "nbformat_minor": 5
}
