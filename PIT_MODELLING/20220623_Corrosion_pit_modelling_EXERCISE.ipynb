{
 "cells": [
  {
   "cell_type": "markdown",
   "id": "a3870e72",
   "metadata": {},
   "source": [
    "![logo](MAXWind_Logo.png \"MAXWind logo\")\n",
    "https://www.owi-lab.be/maxwind"
   ]
  },
  {
   "cell_type": "markdown",
   "id": "199042dc",
   "metadata": {},
   "source": [
    "# UGent\n",
    "## Exercise 1: Corrosion pit modelling\n",
    "\n",
    "This exercise will introduce to you the approach to the modelling of pitting corrosion in structural steel (S355) exposed to the North Sea environment. Corrosion pits form and grow as a consequence of electrochemical reactions (in a corrosive environment) where a wide-range of parameters play a role. A phase-field framework coupled with smoothed boundary method is employed to simulate this phenomenon which accounts for most of the effective parameters.\n",
    "\n"
   ]
  },
  {
   "cell_type": "code",
   "execution_count": null,
   "id": "585f4212",
   "metadata": {},
   "outputs": [],
   "source": [
    "#Import libraries\n",
    "import pandas as pd\n",
    "import numpy as np\n",
    "import matplotlib.pyplot as plt\n",
    "import itertools\n",
    "%matplotlib inline"
   ]
  },
  {
   "cell_type": "markdown",
   "id": "9ed2e198",
   "metadata": {},
   "source": [
    "### 1. Input Parameters (Material and environmental)\n",
    "The following table represents the material and environmental parameters that are needed to feed the computational tool. "
   ]
  },
  {
   "cell_type": "code",
   "execution_count": null,
   "id": "6979113b",
   "metadata": {},
   "outputs": [],
   "source": [
    "#Input material parameters as a Pandas DataFrame.\n",
    "\n",
    "material_prm_df = pd.read_excel(\"Material_Parameters_grouped.xlsx\")  \n",
    "\n",
    "#Show material parameters\n",
    "material_prm_df"
   ]
  },
  {
   "cell_type": "markdown",
   "id": "ccfaf5fe",
   "metadata": {},
   "source": [
    "---\n",
    "\n",
    "### 2. Demonstration of pit modelling\n",
    "\n",
    "To demonstrate the outpuot of pit modelling, we have chosen to showcase the results for two variations in variables specific to the corrosive environment. Specifically, the \"applied potential\" is altered."
   ]
  },
  {
   "cell_type": "code",
   "execution_count": null,
   "id": "923e0472",
   "metadata": {},
   "outputs": [],
   "source": [
    "#Show environment specific variables\n",
    "material_prm_df[material_prm_df['Parameter group']==\"Environment specific variables\"]"
   ]
  },
  {
   "cell_type": "markdown",
   "id": "d37da348",
   "metadata": {},
   "source": [
    "---\n",
    "\n",
    "#### 2.1 Adaptive meshing\n",
    "\n",
    "To limit excessive computational costs, adaptive meshing is used to update the mesh with the evolution of the corrosion pit. \n",
    "\n",
    "In the animation below, it can be seen that the mesh density constantly changes with the evolution of the corrosion pit front.\n",
    "\n",
    "![gif](Mesh-gif.gif \"adaptive_mesh\")"
   ]
  },
  {
   "cell_type": "markdown",
   "id": "1bd23ec7",
   "metadata": {},
   "source": [
    "---\n",
    "\n",
    "#### 2.2 Pit evolution(s)\n",
    "\n",
    "Using the two different applied potentials, two corrosion pit evolutions are generated (for a simulation time of 150 seconds).\n",
    "\n",
    "##### Applied potential = -0.500 V\n",
    "![neg_500mV](-500mV-gif.gif \"neg_500mV\")\n",
    "\n",
    "##### Applied potential = -0.450 V\n",
    "![neg_450mV](-450mV-gif.gif \"neg_450mV\")"
   ]
  },
  {
   "cell_type": "markdown",
   "id": "4d5916e7",
   "metadata": {},
   "source": [
    "---\n",
    "\n",
    "#### Pit geometry evolution\n",
    "\n",
    "Let us now look at the effect of applied potential on corrosion pit growth\n",
    "\n",
    "![pit_size](pit_size.png \"pit_size\")"
   ]
  },
  {
   "cell_type": "code",
   "execution_count": null,
   "id": "3d7944b5",
   "metadata": {},
   "outputs": [],
   "source": [
    "#Input pit growth data as Pandas DataFrame into a dictionary of a range of applied potentials\n",
    "pit_evolution_df_dict = {}\n",
    "list_app_potential = ['-0.45 V', '-0.5 V']\n",
    "\n",
    "for potential in list_app_potential:\n",
    "    pit_evolution_df_dict[potential] = pd.read_excel(\"RESULTS_\"+potential+\".xlsx\")\n",
    "\n",
    "#Show DataFrame\n",
    "#Headers\n",
    "#Simulation time [sec]\n",
    "#pit width (for the two applied potentials) [mm]\n",
    "#pit depth (for the two applied potentials) [mm]\n",
    "pit_evolution_df_dict"
   ]
  },
  {
   "cell_type": "markdown",
   "id": "0575ea38",
   "metadata": {},
   "source": [
    "---\n",
    "\n",
    "#### Plot pit width and depth evolution"
   ]
  },
  {
   "cell_type": "code",
   "execution_count": null,
   "id": "721a5a0b",
   "metadata": {},
   "outputs": [],
   "source": [
    "# COSMETIC: list of colours to iterate through.\n",
    "colours_width = itertools.cycle(('black','green','red','cyan','magenta','yellow','blue'))\n",
    "colours_depth = itertools.cycle(('black','green','red','cyan','magenta','yellow','blue'))\n",
    "\n",
    "fig, ax = plt.subplots(1,2,figsize=(12,6))\n",
    "\n",
    "# #Plot Pit width evolution\n",
    "for potential in list_app_potential:\n",
    "    ax[0].plot(pit_evolution_df_dict[potential]['Simulation time'],pit_evolution_df_dict[potential]['pit width'],color=next(colours_width), marker = 'o', markersize=4, lw=1, label=potential)\n",
    "ax[0].legend(loc='best', fontsize = 12) #location of legend \n",
    "ax[0].set_xlabel('Simulation time [seconds]',size=12)\n",
    "ax[0].set_ylabel('Pit width [mm]',size=12) \n",
    "ax[0].set_title('Pit width evolution', size = 16)\n",
    "ax[0].set_ylim([0.,1.0])\n",
    "ax[0].set_xlim([0.0,150.0])\n",
    "ax[0].set_facecolor('gainsboro')\n",
    "\n",
    "# #Plot Pit depth evolution\n",
    "for potential in list_app_potential:\n",
    "    ax[1].plot(pit_evolution_df_dict[potential]['Simulation time'],pit_evolution_df_dict[potential]['pit depth'],color=next(colours_depth), marker = 'o', markersize=4, lw=1, label=potential)\n",
    "ax[1].legend(loc='best', fontsize = 12) #location of legend \n",
    "ax[1].set_xlabel('Simulation time [seconds]',size=12)\n",
    "ax[1].set_ylabel('Pit depth [mm]',size=12) \n",
    "ax[1].set_title('Pit depth evolution', size = 16)\n",
    "ax[1].set_ylim([0.,0.2])\n",
    "ax[1].set_xlim([0.0,150.0])\n",
    "ax[1].set_facecolor('gainsboro')\n",
    "plt.tight_layout()"
   ]
  },
  {
   "cell_type": "markdown",
   "id": "845ec0dd",
   "metadata": {},
   "source": [
    "#### You can try plotting pits more applied potentials\n",
    "\n",
    "Options - \n",
    "1. -0.4 V\n",
    "2. -0.45 V (plotted above)\n",
    "3. -0.5 V (plotted above)\n",
    "4. -0.55 V\n",
    "5. -0.6 V\n"
   ]
  },
  {
   "cell_type": "code",
   "execution_count": null,
   "id": "6cadf35a",
   "metadata": {},
   "outputs": [],
   "source": [
    "# COSMETIC: list of colours to iterate through.\n",
    "colours_width = itertools.cycle(('black','green','red','cyan','magenta','yellow','blue'))\n",
    "colours_depth = itertools.cycle(('black','green','red','cyan','magenta','yellow','blue'))\n",
    "\n",
    "#Choose list of applied potentials to plot\n",
    "list_app_potential = ['-0.4 V', '-0.45 V', '-0.5 V', '-0.55 V', '-0.6 V'] ##your choice\n",
    "\n",
    "#Input pit growth data as Pandas DataFrame into a dictionary of a range of applied potentials\n",
    "pit_evolution_df_dict = {}\n",
    "\n",
    "for potential in list_app_potential:\n",
    "    pit_evolution_df_dict[potential] = pd.read_excel(\"RESULTS_\"+potential+\".xlsx\")\n",
    "\n",
    "fig, ax = plt.subplots(1,2,figsize=(12,6))\n",
    "# #Plot Pit width evolution\n",
    "for potential in list_app_potential:\n",
    "    ax[0].plot(pit_evolution_df_dict[potential]['Simulation time'],pit_evolution_df_dict[potential]['pit width'],color=next(colours_width), marker = 'o', markersize=4, lw=1, label=potential)\n",
    "ax[0].legend(loc='best', fontsize = 12) #location of legend \n",
    "ax[0].set_xlabel('Simulation time [seconds]',size=12)\n",
    "ax[0].set_ylabel('Pit width [mm]',size=12) \n",
    "ax[0].set_title('Pit width evolution', size = 16)\n",
    "ax[0].set_ylim([0.,1.0])\n",
    "ax[0].set_xlim([0.0,150.0])\n",
    "ax[0].set_facecolor('gainsboro')\n",
    "\n",
    "# #Plot Pit depth evolution\n",
    "for potential in list_app_potential:\n",
    "    ax[1].plot(pit_evolution_df_dict[potential]['Simulation time'],pit_evolution_df_dict[potential]['pit depth'],color=next(colours_depth), marker = 'o', markersize=4, lw=1, label=potential)\n",
    "ax[1].legend(loc='best', fontsize = 12) #location of legend \n",
    "ax[1].set_xlabel('Simulation time [seconds]',size=12)\n",
    "ax[1].set_ylabel('Pit depth [mm]',size=12) \n",
    "ax[1].set_title('Pit depth evolution', size = 16)\n",
    "ax[1].set_ylim([0.,0.2])\n",
    "ax[1].set_xlim([0.0,150.0])\n",
    "ax[1].set_facecolor('gainsboro')\n",
    "plt.tight_layout()"
   ]
  },
  {
   "cell_type": "code",
   "execution_count": null,
   "id": "76b019e5",
   "metadata": {},
   "outputs": [],
   "source": []
  }
 ],
 "metadata": {
  "kernelspec": {
   "display_name": "Python 3 (ipykernel)",
   "language": "python",
   "name": "python3"
  },
  "language_info": {
   "codemirror_mode": {
    "name": "ipython",
    "version": 3
   },
   "file_extension": ".py",
   "mimetype": "text/x-python",
   "name": "python",
   "nbconvert_exporter": "python",
   "pygments_lexer": "ipython3",
   "version": "3.8.12"
  },
  "varInspector": {
   "cols": {
    "lenName": 16,
    "lenType": 16,
    "lenVar": 40
   },
   "kernels_config": {
    "python": {
     "delete_cmd_postfix": "",
     "delete_cmd_prefix": "del ",
     "library": "var_list.py",
     "varRefreshCmd": "print(var_dic_list())"
    },
    "r": {
     "delete_cmd_postfix": ") ",
     "delete_cmd_prefix": "rm(",
     "library": "var_list.r",
     "varRefreshCmd": "cat(var_dic_list()) "
    }
   },
   "types_to_exclude": [
    "module",
    "function",
    "builtin_function_or_method",
    "instance",
    "_Feature"
   ],
   "window_display": false
  }
 },
 "nbformat": 4,
 "nbformat_minor": 5
}
