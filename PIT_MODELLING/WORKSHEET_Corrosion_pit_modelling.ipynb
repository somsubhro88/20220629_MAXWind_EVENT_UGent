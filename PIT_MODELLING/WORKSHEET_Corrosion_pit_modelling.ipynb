{
 "cells": [
  {
   "cell_type": "markdown",
   "id": "a3870e72",
   "metadata": {},
   "source": [
    "![logo](MAXWind_Logo.png \"MAXWind logo\")\n",
    "https://www.owi-lab.be/maxwind"
   ]
  },
  {
   "cell_type": "markdown",
   "id": "199042dc",
   "metadata": {},
   "source": [
    "# UGent\n",
    "## Exercise 1: Corrosion pit modelling\n",
    "\n",
    "This exercise will introduce to you the approach to the modelling of pitting corrosion in structural steel (S355) exposed to the North Sea environment. Corrosion pits form and grow as a consequence of electrochemical reactions (in a corrosive environment) where a wide-range of parameters play a role. A phase-field framework coupled with smoothed boundary method is employed to simulate this phenomenon which accounts for most of the effective parameters.\n",
    "\n"
   ]
  },
  {
   "cell_type": "code",
   "execution_count": null,
   "id": "76b019e5",
   "metadata": {},
   "outputs": [],
   "source": []
  }
 ],
 "metadata": {
  "kernelspec": {
   "display_name": "Python 3 (ipykernel)",
   "language": "python",
   "name": "python3"
  },
  "language_info": {
   "codemirror_mode": {
    "name": "ipython",
    "version": 3
   },
   "file_extension": ".py",
   "mimetype": "text/x-python",
   "name": "python",
   "nbconvert_exporter": "python",
   "pygments_lexer": "ipython3",
   "version": "3.8.12"
  },
  "varInspector": {
   "cols": {
    "lenName": 16,
    "lenType": 16,
    "lenVar": 40
   },
   "kernels_config": {
    "python": {
     "delete_cmd_postfix": "",
     "delete_cmd_prefix": "del ",
     "library": "var_list.py",
     "varRefreshCmd": "print(var_dic_list())"
    },
    "r": {
     "delete_cmd_postfix": ") ",
     "delete_cmd_prefix": "rm(",
     "library": "var_list.r",
     "varRefreshCmd": "cat(var_dic_list()) "
    }
   },
   "types_to_exclude": [
    "module",
    "function",
    "builtin_function_or_method",
    "instance",
    "_Feature"
   ],
   "window_display": false
  }
 },
 "nbformat": 4,
 "nbformat_minor": 5
}
